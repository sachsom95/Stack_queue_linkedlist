{
 "cells": [
  {
   "cell_type": "markdown",
   "metadata": {},
   "source": [
    "<h1> Assignment 2 </h1>"
   ]
  },
  {
   "cell_type": "markdown",
   "metadata": {},
   "source": [
    "<h4> <b> Task 1 </b> </h4>\n",
    "<p> Task 1 involves implimentation of LinkedList in python including all operations available to it </p>\n",
    "<h6> The operations are : </h6>\n",
    "<ul> <li> Add data to begining </li>\n",
    "    <li> Add data in end </li>\n",
    "    <li> Add data inbetween some index </li>\n",
    "    <li> List traversal </li>\n",
    "</ul>"
   ]
  },
  {
   "cell_type": "markdown",
   "metadata": {},
   "source": [
    "<p> Implimentation notes </p>\n",
    "<blockquote> <ul> <li> The linkedlist designed here consist of two classes <ul> <li> node </li> <li> myLinkedList </li> </ul>\n",
    "    <li> The node class stores the data and reference to the next node </li>\n",
    "    <li> This implementation of linkedlist doesn't use a tail node and instead uses traversal to reach end and add new node at end - I might change this later </li>\n",
    "    "
   ]
  },
  {
   "cell_type": "markdown",
   "metadata": {},
   "source": [
    "ll -> https://www.youtube.com/watch?v=JlMyYuY1aXU\n",
    "ADT -> https://www.geeksforgeeks.org/abstract-data-types/"
   ]
  },
  {
   "cell_type": "code",
   "execution_count": 3,
   "metadata": {},
   "outputs": [],
   "source": [
    "class node:\n",
    "    \n",
    "    def __init__(self,data = None):\n",
    "        #default initialization of node the data will be None useful \n",
    "        #when we define the head node in myLinkedList class\n",
    "        self.data = data\n",
    "        # self.next stores the reference to next node\n",
    "        self.next = None\n",
    "\n",
    "class myLinkedList:\n",
    "    def __init__(self):\n",
    "        # When a new linkedlist is created it is initialized with a head\n",
    "        self.head = node()\n",
    "        \n",
    "    def add_last (self,data):\n",
    "        \"\"\"This function adds a node to end of a linkedlist\"\"\"\n",
    "        # STEP 1 : Make a new node with data\n",
    "        new_node = node(data)\n",
    "        # STEP 2 : Make a variable which points to head\n",
    "        current_node = self.head\n",
    "        # STEP 3: Traverse the linkedlist till we reach the end\n",
    "        while current_node.next != None:\n",
    "            current_node = current_node.next\n",
    "        # STEP 4: After reaching the end set current_node's next node as new_node\n",
    "        #the current nodes next node points to null indicating the end of linkedlist\n",
    "        current_node.next = new_node\n",
    "        \n",
    "    def add_first(self,data):\n",
    "        \"\"\"This function adds node to the begining of linkedlist\"\"\"\n",
    "        #STEP 1: Make a new node\n",
    "        new_node = node(data)\n",
    "        # STEP 2 : Make new node created next reference to head\n",
    "        new_node.next = self.head.next\n",
    "        # STEP 3 : Change head's reference to the new node\n",
    "        self.head.next = new_node\n",
    "        \n",
    "    def add_inbetween(self,data,index):\n",
    "        \"\"\"The function inserts element into index we specify\"\"\"\n",
    "        if (index < self.length() and index > 0):\n",
    "            new_node = node(data)\n",
    "            current_node = self.head\n",
    "            count = 1\n",
    "            while (current_node.next != None and count < index):\n",
    "                count = count +1\n",
    "                current_node = current_node.next\n",
    "            new_node.next = current_node.next\n",
    "            current_node.next = new_node\n",
    "        else:\n",
    "            print(\"ERROR INDEX OUT OF BOUND\")\n",
    "             \n",
    "        \n",
    "    def length(self):\n",
    "        \"\"\"This function returns length of the linked list\"\"\"\n",
    "        current_node = self.head\n",
    "        #STEP 1 : Set current_node to be head\n",
    "        total = 0\n",
    "        #STEP 2: Traverse till node reaches end in null value\n",
    "        while current_node.next != None:\n",
    "        #STEP 3: Increment variable:total till we reach end\n",
    "            total += 1\n",
    "            current_node = current_node.next\n",
    "        return total\n",
    "    \n",
    "    def list_traversal(self):\n",
    "        \"\"\"This function returns a list containing all elemnts in linkedlist\"\"\"\n",
    "        #This list will store all the contents of the linkedlist\n",
    "        content = []\n",
    "        #STEP1 : start from head\n",
    "        current_node = self.head\n",
    "        #STEP 2 : Iterate through each node\n",
    "        while current_node.next != None:\n",
    "            current_node = current_node.next\n",
    "            content.append(current_node.data)\n",
    "        print (content)\n",
    "      "
   ]
  },
  {
   "cell_type": "markdown",
   "metadata": {},
   "source": [
    "The above code fully impliments the linkedlist along with all its associated function. Next we will all the opearations on the linkedlist below."
   ]
  },
  {
   "cell_type": "markdown",
   "metadata": {},
   "source": [
    "Create a linkedList called my_list"
   ]
  },
  {
   "cell_type": "code",
   "execution_count": 4,
   "metadata": {},
   "outputs": [],
   "source": [
    "my_list = myLinkedList()"
   ]
  },
  {
   "cell_type": "markdown",
   "metadata": {},
   "source": [
    "<p> Add elements from front </p>"
   ]
  },
  {
   "cell_type": "code",
   "execution_count": 5,
   "metadata": {},
   "outputs": [],
   "source": [
    "my_list.add_first(0)\n",
    "my_list.add_first(1)\n",
    "my_list.add_first(3)\n",
    "my_list.add_first(4)\n",
    "my_list.add_first(5)"
   ]
  },
  {
   "cell_type": "markdown",
   "metadata": {},
   "source": [
    "Lets check the linkedlist and see if they got added using the traversal function created"
   ]
  },
  {
   "cell_type": "code",
   "execution_count": 6,
   "metadata": {
    "scrolled": true
   },
   "outputs": [
    {
     "name": "stdout",
     "output_type": "stream",
     "text": [
      "[5, 4, 3, 1, 0]\n"
     ]
    }
   ],
   "source": [
    "my_list.list_traversal()"
   ]
  },
  {
   "cell_type": "markdown",
   "metadata": {},
   "source": [
    "<p>The traversal function indeed shows that the elements where added from front \n",
    "<br> Now lets try adding an element from back</p>"
   ]
  },
  {
   "cell_type": "code",
   "execution_count": 7,
   "metadata": {},
   "outputs": [],
   "source": [
    "my_list.add_last(6)"
   ]
  },
  {
   "cell_type": "markdown",
   "metadata": {},
   "source": [
    "Now lets check if element was added in end using the traversal function"
   ]
  },
  {
   "cell_type": "code",
   "execution_count": 9,
   "metadata": {},
   "outputs": [
    {
     "name": "stdout",
     "output_type": "stream",
     "text": [
      "[5, 4, 3, 1, 0, 6]\n"
     ]
    }
   ],
   "source": [
    "my_list.list_traversal()"
   ]
  },
  {
   "cell_type": "markdown",
   "metadata": {},
   "source": [
    "<p> Looking at the list its looks like the element was added at the end of linkedlist<br>\n",
    "    Now lets add an element in between the linkedList</p>"
   ]
  },
  {
   "cell_type": "code",
   "execution_count": 10,
   "metadata": {},
   "outputs": [
    {
     "name": "stdout",
     "output_type": "stream",
     "text": [
      "[5, 4, 100, 3, 1, 0, 6]\n"
     ]
    }
   ],
   "source": [
    "my_list.add_inbetween(100,3)\n",
    "my_list.list_traversal()"
   ]
  },
  {
   "cell_type": "markdown",
   "metadata": {},
   "source": [
    "The adding of element in between the stack was succesfull"
   ]
  },
  {
   "cell_type": "markdown",
   "metadata": {},
   "source": [
    "<p> Looking at linkedlist I was able to derive some observations</p>\n",
    "<blockquote>\n",
    "    <ul>\n",
    "        <li> Linkedlist can dynamically grow or shrink during run time unlike an array </li>\n",
    "        <li> Array requires serious of continious memory locations but this is not the case inlinkedlist<br>\n",
    "            because we can point the to next node which is in some other locations</li>\n",
    "        <li> Another important thing I was able to notice was that when an insertion occurs <br>\n",
    "            we need not shift subsequent elemnts like in an array hence the insertion <br>and delection operations \n",
    "            are much faster in a linkedlist ie time complexity is O(1). <br><b>Note :</b> in my implimentation of linkedlist \n",
    "            I have not put a tail reference hence insertion at last will be of O(n) in my implimentation of Linkedlist.</li>\n",
    "        <li> The <b>disadvantage </b>which I could observe in my implimentation of Linkedlist was the time complexity in accessing data, for accesing a particular data we need to traverse through each node to get it unlike an array which can retrive data in O(1)"
   ]
  },
  {
   "cell_type": "markdown",
   "metadata": {},
   "source": [
    "### Part 1 - Task 2\n",
    "<p> The objective of this part is to explain Stack and Queue ADT , associated operations for the ADT's and some real world examples.<br> The first thing we should do is explain what an ADT is. An ADT stands for Abstract Data Type. Basically it is a user defined datatype made using implimentation of classes and has certain behaviours. It is similar to basic data types like Int , Float etc except its behaviour is dictated by set of operations. A good example of an ADT is the linkedlist we have defined above. The linkedlist above is a datatype which stores data and it follows some behaviours like Insert from front , insert at last etc.</p>\n",
    "\n",
    "### STACK ADT\n",
    "A stack based ADT is one that follows the LIFO principals. LIFO stands for <b>L</b>ast <b>I</b>n <b>F</b>irst <b>O</b>ut. This means the object which was put in the datatype last will be removed first. <blockquote>The two major operations under a STACK ADT are:\n",
    "    <ul>\n",
    "        <li> Push (data)</li>\n",
    "        <li> Pop ( ) </li>\n",
    "    </ul>\n",
    "</blockquote>\n",
    "<p> Push operation add an object to the datatype while Pop operation removes the most recently added object </p>\n",
    "<h6> Implimentation </h6>\n",
    "There are two implimentations for stack\n",
    "<ul>\n",
    "    <li>Array</li>\n",
    "    <li>Linked list </li>\n",
    "</ul>\n",
    "The advantage of an array based implementation is that it is fast. However in an array based implimentation the size is predetermined, therfore if the push operation exceeds the array size and exception will be raised.\n",
    "\n",
    "\n",
    "<p> Additionally in my implimentation of stack I have added two more operations called length ( ) and stack_traversal ( ). These operations are not part of stack ADT and I have made it for implimenting the stack bit more easily.</p>\n",
    "<h6>Examples</h6>"
   ]
  },
  {
   "cell_type": "code",
   "execution_count": null,
   "metadata": {},
   "outputs": [],
   "source": []
  },
  {
   "cell_type": "code",
   "execution_count": null,
   "metadata": {},
   "outputs": [],
   "source": []
  },
  {
   "cell_type": "code",
   "execution_count": null,
   "metadata": {},
   "outputs": [],
   "source": []
  },
  {
   "cell_type": "markdown",
   "metadata": {},
   "source": [
    "<h1> STACK ADT </h1>"
   ]
  },
  {
   "cell_type": "code",
   "execution_count": null,
   "metadata": {},
   "outputs": [],
   "source": [
    "class node:\n",
    "    \n",
    "    def __init__(self,data = None):\n",
    "        #default initialization of node the data will be None useful \n",
    "        #when we define the head node in myLinkedList class\n",
    "        self.data = data\n",
    "        # self.next stores the reference to next node\n",
    "        self.next = None\n",
    "\n",
    "class LinkedList_stack:\n",
    "    def __init__(self):\n",
    "        # When a new linkedlist is created it is initialized with a head\n",
    "        self.top = node()\n",
    "        self.length = 0\n",
    "        \n",
    "    def push(self,data):\n",
    "        \"\"\"This function pushes data into a stack\"\"\"\n",
    "        #STEP 1: Make a new node\n",
    "        new_node = node(data)\n",
    "        # STEP 2 : Make new node created next reference to head\n",
    "        new_node.next = self.top.next\n",
    "        # STEP 3 : Change head's reference to the new node\n",
    "        self.top.next = new_node\n",
    "        self.length += 1\n",
    "    \n",
    "    def pop(self):\n",
    "        \"\"\"The function pops items from stack\"\"\"\n",
    "            #STEP 1: Check if stack is empty or not\n",
    "        if (self.length > 0):\n",
    "            #STEP 2 : Store top node in an another reference variable \n",
    "            current_node = self.top.next\n",
    "            #This variable stores data of item poped so that we can display it when poped\n",
    "            item_poped = current_node\n",
    "            #STEP 3 : The new variable which references the top now references the next node\n",
    "            current_node = current_node.next\n",
    "            #Step 4 : Make this new node the top node which removes the reference of top most node.\n",
    "            #Effectively deleting top node\n",
    "            self.top.next = current_node\n",
    "            #STEP 5 : Decrement lenght of Stack by one\n",
    "            self.length -= 1\n",
    "            return (\"Element:\",item_poped.data ,\" poped from stack\")\n",
    "        else:\n",
    "            print(\"Nothing to POP\")\n",
    "    \n",
    "    def lenght(self):\n",
    "        \"\"\"The function returns length of stack\"\"\"\n",
    "        return self.length\n",
    "                                \n",
    "    def stack_traversal(self):\n",
    "        \"\"\"This function returns a list containing all elemnts in the stack\"\"\"\n",
    "        #This list will store all the contents of the stack\n",
    "        content = []\n",
    "        #STEP1 : start from top\n",
    "        current_node = self.top\n",
    "        #STEP 2 : Iterate through each node\n",
    "        while current_node.next != None:\n",
    "            current_node = current_node.next\n",
    "            content.append(current_node.data)\n",
    "        print(\"The elements of stack are \")\n",
    "        print (content)\n",
    "      "
   ]
  },
  {
   "cell_type": "code",
   "execution_count": null,
   "metadata": {},
   "outputs": [],
   "source": [
    "stack = LinkedList_stack()"
   ]
  },
  {
   "cell_type": "code",
   "execution_count": null,
   "metadata": {},
   "outputs": [],
   "source": [
    "stack.push(1)"
   ]
  },
  {
   "cell_type": "code",
   "execution_count": null,
   "metadata": {},
   "outputs": [],
   "source": [
    "stack.push(2)"
   ]
  },
  {
   "cell_type": "code",
   "execution_count": null,
   "metadata": {},
   "outputs": [],
   "source": [
    "stack.stack_traversal()"
   ]
  },
  {
   "cell_type": "code",
   "execution_count": null,
   "metadata": {},
   "outputs": [],
   "source": [
    "stack.pop()"
   ]
  },
  {
   "cell_type": "code",
   "execution_count": null,
   "metadata": {},
   "outputs": [],
   "source": [
    "stack.lenght()"
   ]
  },
  {
   "cell_type": "markdown",
   "metadata": {},
   "source": [
    "QUEUE ADT"
   ]
  },
  {
   "cell_type": "code",
   "execution_count": 185,
   "metadata": {},
   "outputs": [],
   "source": [
    "class node:\n",
    "    \n",
    "    def __init__(self,data = None):\n",
    "        #default initialization of node the data will be None useful- \n",
    "        # - when we define the head node in myLinkedList_queue class\n",
    "        self.data = data\n",
    "        # self.next stores the reference to next node\n",
    "        self.next = None\n",
    "\n",
    "class LinkedList_queue:\n",
    "    def __init__(self):\n",
    "        # When a new linkedlist is created it is initialized with a head and tail for a queue\n",
    "        self.head = node()\n",
    "        self.tail = node()\n",
    "        self.size = 0\n",
    "        \n",
    "    def queue_length(self):\n",
    "        \"\"\"Function returns length of queue\"\"\"\n",
    "        return self.size\n",
    "    \n",
    "    def is_empty(self):\n",
    "        \"\"\"This functions tells if the queue is empyt\"\"\"\n",
    "        if self.size == 0:\n",
    "            return True\n",
    "        else:\n",
    "            return False\n",
    "    \n",
    "    def dequeue (self):\n",
    "        \"\"\"This function removes a node from Head following FIFO\"\"\"\n",
    "        #STEP 1 : Check if queue is empty \n",
    "        if self.is_empty():\n",
    "            return \"Queue is EMPTY\"\n",
    "        else:\n",
    "        #STEP 2 : Store head data in variable to return it after deque operation\n",
    "            answer = self.head.data\n",
    "        #STEP 3 : Point head reference to next node effectively moving head to next node  \n",
    "            self.head = self.head.next\n",
    "        #STEP 4 : Decrease the length of queue by one\n",
    "            self.size -= 1\n",
    "        #STEP 5 : Check if queue became empty after deque if yes make tail reference to None\n",
    "            if self.is_empty:\n",
    "                self.tail = None\n",
    "        return answer\n",
    "    \n",
    "    def peek(self):\n",
    "        \"\"\"Peek operation looks at the head node without poping it\"\"\"\n",
    "        if self.is_empty():\n",
    "            return \"Empty Queue\"\n",
    "        return self.head.data\n",
    "                   \n",
    "    def enqueue(self,data):\n",
    "        \"\"\"This function adds node to the tail of queue following FIFO\"\"\"\n",
    "        #STEP 1 : Create a node with data\n",
    "        new_node = node(data)\n",
    "        #STEP 2 : Check of queue is empty or not if empty set head and tail to same node\n",
    "        if self.is_empty():\n",
    "            self.head = new_node\n",
    "            self.tail = new_node\n",
    "        else:\n",
    "        #STEP 2.1 : If queue not empty set tail to refer to next node and shift the new node to be tail\n",
    "            self.tail.next = new_node\n",
    "            self.tail = new_node\n",
    "        #STEP 3 : Increase size of queue \n",
    "        self.size +=1     \n",
    "    \n",
    "    def traverse(self):\n",
    "        \"\"\"This function goes through each node and display data with out poping\n",
    "            this may not be a valid procedure in queue but i found it usefull for \n",
    "            visualizing the working of the queue\"\"\"\n",
    "        x = self.queue_length()\n",
    "        if self.is_empty():\n",
    "            return \"Empty queue\"\n",
    "        lst = []\n",
    "        current_node = self.head\n",
    "        while x != 0:\n",
    "            lst.append(current_node.data)\n",
    "            current_node = current_node.next\n",
    "            x -= 1\n",
    "        return lst"
   ]
  },
  {
   "cell_type": "code",
   "execution_count": 178,
   "metadata": {},
   "outputs": [],
   "source": [
    "queue =LinkedList_queue()"
   ]
  },
  {
   "cell_type": "code",
   "execution_count": 179,
   "metadata": {},
   "outputs": [
    {
     "data": {
      "text/plain": [
       "0"
      ]
     },
     "execution_count": 179,
     "metadata": {},
     "output_type": "execute_result"
    }
   ],
   "source": [
    "queue.queue_length()"
   ]
  },
  {
   "cell_type": "code",
   "execution_count": 180,
   "metadata": {},
   "outputs": [],
   "source": [
    "queue.enque(1)\n",
    "queue.enque(2)\n",
    "queue.enque(3)\n",
    "queue.enque(4)\n",
    "queue.enque(5)"
   ]
  },
  {
   "cell_type": "code",
   "execution_count": 183,
   "metadata": {},
   "outputs": [
    {
     "data": {
      "text/plain": [
       "1"
      ]
     },
     "execution_count": 183,
     "metadata": {},
     "output_type": "execute_result"
    }
   ],
   "source": [
    "queue.deque()"
   ]
  },
  {
   "cell_type": "code",
   "execution_count": 182,
   "metadata": {},
   "outputs": [
    {
     "data": {
      "text/plain": [
       "[1, 2, 3, 4, 5]"
      ]
     },
     "execution_count": 182,
     "metadata": {},
     "output_type": "execute_result"
    }
   ],
   "source": [
    "queue.traverse()"
   ]
  },
  {
   "cell_type": "code",
   "execution_count": 184,
   "metadata": {},
   "outputs": [
    {
     "data": {
      "text/plain": [
       "2"
      ]
     },
     "execution_count": 184,
     "metadata": {},
     "output_type": "execute_result"
    }
   ],
   "source": [
    "queue.peek()"
   ]
  },
  {
   "cell_type": "code",
   "execution_count": null,
   "metadata": {},
   "outputs": [],
   "source": []
  }
 ],
 "metadata": {
  "kernelspec": {
   "display_name": "Python 3",
   "language": "python",
   "name": "python3"
  },
  "language_info": {
   "codemirror_mode": {
    "name": "ipython",
    "version": 3
   },
   "file_extension": ".py",
   "mimetype": "text/x-python",
   "name": "python",
   "nbconvert_exporter": "python",
   "pygments_lexer": "ipython3",
   "version": "3.7.6"
  }
 },
 "nbformat": 4,
 "nbformat_minor": 4
}
