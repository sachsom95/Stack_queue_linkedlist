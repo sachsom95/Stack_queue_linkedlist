{
 "cells": [
  {
   "cell_type": "markdown",
   "metadata": {},
   "source": [
    "<h1> Assignment 2 </h1>"
   ]
  },
  {
   "cell_type": "markdown",
   "metadata": {},
   "source": [
    "<h4> <b> Task 1 </b> </h4>\n",
    "<p> Task 1 involves implimentation of LinkedList in python including all operations available to it </p>\n",
    "<h6> The operations are : </h6>\n",
    "<ul> <li> Add data to begining </li>\n",
    "    <li> Add data in end </li>\n",
    "    <li> Add data inbetween some index </li>\n",
    "    <li> List traversal </li>\n",
    "</ul>"
   ]
  },
  {
   "cell_type": "markdown",
   "metadata": {},
   "source": [
    "<p> Implimentation notes </p>\n",
    "<blockquote> <ul> <li> The linkedlist designed here consist of two classes <ul> <li> node </li> <li> myLinkedList </li> </ul>\n",
    "    <li> The node class stores the data and reference to the next node </li>\n",
    "    <li> This implementation of linkedlist doesn't use a tail node and instead uses traversal to reach end and add new node at end - I might change this later </li>\n",
    "    "
   ]
  },
  {
   "cell_type": "code",
   "execution_count": 41,
   "metadata": {},
   "outputs": [],
   "source": [
    "class node:\n",
    "    \n",
    "    def __init__(self,data = None):\n",
    "        #default initialization of node the data will be None useful \n",
    "        #when we define the head node in myLinkedList class\n",
    "        self.data = data\n",
    "        # self.next stores the reference to next node\n",
    "        self.next = None\n",
    "\n",
    "class myLinkedList:\n",
    "    def __init__(self):\n",
    "        # When a new linkedlist is created it is initialized with a head\n",
    "        self.head = node()\n",
    "        \n",
    "    def add_last (self,data):\n",
    "        \"\"\"This function adds a node to end of a linkedlist\"\"\"\n",
    "        # STEP 1 : Make a new node with data\n",
    "        new_node = node(data)\n",
    "        # STEP 2 : Make a variable which points to head\n",
    "        current_node = self.head\n",
    "        # STEP 3: Traverse the linkedlist till we reach the end\n",
    "        while current_node.next != None:\n",
    "            current_node = current_node.next\n",
    "        # STEP 4: After reaching the end set current_node's next node as new_node\n",
    "        #the current nodes next node points to null indicating the end of linkedlist\n",
    "        current_node.next = new_node\n",
    "        \n",
    "    def add_first(self,data):\n",
    "        \"\"\"This function adds node to the begining of linkedlist\"\"\"\n",
    "        #STEP 1: Make a new node\n",
    "        new_node = node(data)\n",
    "        # STEP 2 : Make new node created next reference to head\n",
    "        new_node.next = self.head.next\n",
    "        # STEP 3 : Change head's reference to the new node\n",
    "        self.head.next = new_node\n",
    "        \n",
    "    def add_inbetween(self,data,index):\n",
    "        \"\"\"The function inserts element into index we specify\"\"\"\n",
    "        if (index < self.length() and index > 0):\n",
    "            new_node = node(data)\n",
    "            current_node = self.head\n",
    "            count = 1\n",
    "            while (current_node.next != None and count < index):\n",
    "                count = count +1\n",
    "                current_node = current_node.next\n",
    "            new_node.next = current_node.next\n",
    "            current_node.next = new_node\n",
    "        else:\n",
    "            print(\"ERROR INDEX OUT OF BOUND\")\n",
    "             \n",
    "        \n",
    "    def length(self):\n",
    "        \"\"\"This function returns length of the linked list\"\"\"\n",
    "        current_node = self.head\n",
    "        #STEP 1 : Set current_node to be head\n",
    "        total = 0\n",
    "        #STEP 2: Traverse till node reaches end in null value\n",
    "        while current_node.next != None:\n",
    "        #STEP 3: Increment variable:total till we reach end\n",
    "            total += 1\n",
    "            current_node = current_node.next\n",
    "        return total\n",
    "    \n",
    "    def list_traversal(self):\n",
    "        \"\"\"This function returns a list containing all elemnts in linkedlist\"\"\"\n",
    "        #This list will store all the contents of the linkedlist\n",
    "        content = []\n",
    "        #STEP1 : start from head\n",
    "        current_node = self.head\n",
    "        #STEP 2 : Iterate through each node\n",
    "        while current_node.next != None:\n",
    "            current_node = current_node.next\n",
    "            content.append(current_node.data)\n",
    "        print (content)\n",
    "      "
   ]
  },
  {
   "cell_type": "code",
   "execution_count": 43,
   "metadata": {},
   "outputs": [],
   "source": [
    "my_list = myLinkedList()"
   ]
  },
  {
   "cell_type": "code",
   "execution_count": 44,
   "metadata": {},
   "outputs": [],
   "source": [
    "my_list.add_first(0)\n",
    "my_list.add_first(1)\n",
    "my_list.add_first(3)\n",
    "my_list.add_first(4)\n",
    "my_list.add_first(5)"
   ]
  },
  {
   "cell_type": "code",
   "execution_count": 45,
   "metadata": {},
   "outputs": [
    {
     "name": "stdout",
     "output_type": "stream",
     "text": [
      "[5, 4, 3, 1, 0]\n"
     ]
    }
   ],
   "source": [
    "my_list.list_traversal()"
   ]
  },
  {
   "cell_type": "code",
   "execution_count": 46,
   "metadata": {},
   "outputs": [
    {
     "name": "stdout",
     "output_type": "stream",
     "text": [
      "ERROR INDEX OUT OF BOUND\n"
     ]
    }
   ],
   "source": [
    "my_list.add_inbetween(6,0)"
   ]
  },
  {
   "cell_type": "code",
   "execution_count": 40,
   "metadata": {},
   "outputs": [
    {
     "name": "stdout",
     "output_type": "stream",
     "text": [
      "[6, 5, 4, 3, 1, 0]\n"
     ]
    }
   ],
   "source": [
    "my_list.list_traversal()"
   ]
  },
  {
   "cell_type": "code",
   "execution_count": null,
   "metadata": {},
   "outputs": [],
   "source": []
  }
 ],
 "metadata": {
  "kernelspec": {
   "display_name": "Python 3",
   "language": "python",
   "name": "python3"
  },
  "language_info": {
   "codemirror_mode": {
    "name": "ipython",
    "version": 3
   },
   "file_extension": ".py",
   "mimetype": "text/x-python",
   "name": "python",
   "nbconvert_exporter": "python",
   "pygments_lexer": "ipython3",
   "version": "3.7.6"
  }
 },
 "nbformat": 4,
 "nbformat_minor": 4
}
